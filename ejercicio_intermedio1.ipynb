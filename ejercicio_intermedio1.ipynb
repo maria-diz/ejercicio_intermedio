{
 "cells": [
  {
   "cell_type": "markdown",
   "metadata": {},
   "source": [
    "\n",
    "Parte 1: Strings\n",
    "1. Dada una cadena de texto, contar cuántas veces aparece una letra específica en ella. Usa un input para que el usuario elija la letra a buscar.\n",
    "cadena = \"Python es un lenguaje de programación muy popular\"\n",
    "\n",
    "2. Escribe un programa que tome la siguiente cadena de texto y reemplace una palabra específica por otra palabra. La palabra a reemplazar y reemplazada deben ser elegidas por el usuario.\n",
    "cadena = \"Python es genial. Python es fácil de aprender.\"\n",
    "\n",
    "3. Toma la siguiente oración y divídela en una lista de palabras. Luego, únelas nuevamente en una sola cadena de texto.\n",
    "oracion = \"Esto es una oración de ejemplo\"\n",
    "\n",
    "4. Desarrolla un programa que cuente cuántas palabras hay en la siguiente frase.\n",
    "cadena = \"Esta es una cadena con cinco palabras\"\n",
    "\n",
    "5. Escribe un programa que invierta una cadena de texto dada por un usuario. Mira el siguiente ejemplo para entender lo que se pide:\n",
    "\n",
    "6. Crea un programa que busque una palabra específica(elegida por la usuaria) en una cadena de texto e indique su posición."
   ]
  },
  {
   "cell_type": "code",
   "execution_count": 11,
   "metadata": {},
   "outputs": [
    {
     "name": "stdout",
     "output_type": "stream",
     "text": [
      "Tu letra a aparece 4 vez/veces\n"
     ]
    }
   ],
   "source": [
    "#1. Dada una cadena de texto, contar cuántas veces aparece una letra específica en ella. Usa un input para que el usuario elija la letra a buscar.\n",
    "\n",
    "cadena = \"Python es un lenguaje de programación muy popular\"\n",
    "letra_a_buscar = str(input(\"Introduce una letra\"))\n",
    "print(f\"Tu letra {letra_a_buscar} aparece {cadena.count(letra_a_buscar)} vez/veces\")     \n"
   ]
  },
  {
   "cell_type": "code",
   "execution_count": 13,
   "metadata": {},
   "outputs": [
    {
     "name": "stdout",
     "output_type": "stream",
     "text": [
      "La nueva frase modificada con tus palabras es: Bootcam es genial. Bootcam es fácil de aprender.\n"
     ]
    }
   ],
   "source": [
    "#2. Escribe un programa que tome la siguiente cadena de texto y reemplace una palabra específica por otra palabra.\n",
    "# La palabra a reemplazar y reemplazada deben ser elegidas por el usuario.\n",
    "\n",
    "cadena = \"Python es genial. Python es fácil de aprender.\"\n",
    "\n",
    "palabra1 = str(input(\"Escoge una palabra de la siguiente frase: Python es genial. Python es fácil de aprender\"))\n",
    "palabra2 = str(input(\"Escoge una segunda palabra para sustituirla por la primera\"))\n",
    "\n",
    "print(f\"La nueva frase modificada con tus palabras es: {cadena.replace(palabra1,palabra2)}\")\n"
   ]
  },
  {
   "cell_type": "code",
   "execution_count": 24,
   "metadata": {},
   "outputs": [
    {
     "name": "stdout",
     "output_type": "stream",
     "text": [
      "['Esto', 'es', 'una', 'oración', 'de', 'ejemplo']\n",
      "Esto es una oración de ejemplo\n"
     ]
    }
   ],
   "source": [
    "#3. Toma la siguiente oración y divídela en una lista de palabras. \n",
    "# Luego, únelas nuevamente en una sola cadena de texto.\n",
    "\n",
    "oracion = \"Esto es una oración de ejemplo\"\n",
    "oracion_lista = oracion.split() \n",
    "print(oracion_lista)\n",
    "cadena = \" \".join(oracion_lista)\n",
    "print(cadena)\n",
    "\n"
   ]
  },
  {
   "cell_type": "code",
   "execution_count": 31,
   "metadata": {},
   "outputs": [
    {
     "name": "stdout",
     "output_type": "stream",
     "text": [
      "['Esta', 'es', 'una', 'cadena', 'con', 'cinco', 'palabras']\n",
      "La frase tiene: 7 palabras\n"
     ]
    }
   ],
   "source": [
    "#4. Desarrolla un programa que cuente cuántas palabras hay en la siguiente frase.\n",
    "# convierto primero en lista con la funcion split para que me separe las palabras por elementos y despues con la funcion len cuento los elementos de la lista,\n",
    "# si los cuento en la cadena, me contaria todos los caracteres de la frase no por palabras.\n",
    "\n",
    "cadena = \"Esta es una cadena con cinco palabras\"\n",
    "lista_cadena = cadena.split() \n",
    "print(lista_cadena)\n",
    "print(f\"La frase tiene: {len(lista_cadena)} palabras\")\n"
   ]
  },
  {
   "cell_type": "code",
   "execution_count": 42,
   "metadata": {},
   "outputs": [
    {
     "name": "stdout",
     "output_type": "stream",
     "text": [
      "['Hola', 'buenos', 'dias']\n",
      "['dias', 'buenos', 'Hola']\n",
      "dias buenos Hola\n"
     ]
    }
   ],
   "source": [
    "# PENDIENTE\n",
    "#5. Escribe un programa que invierta una cadena de texto dada por un usuario. Mira el siguiente ejemplo para entender lo que se pide:\n",
    "\n",
    "# para darle la vuelta a una cadena de texo la convierto en lista\n",
    "# despues le doy la vuelta y \n",
    "# despues la vuelvo a pasar a cadena con join\n",
    "\n",
    "\n",
    "cadena_texto_usuario = str(input(\"Introduce el saludo: Hola buenos dias\"))\n",
    "\n",
    "lista_cadena_usuario = cadena_texto_usuario.split()\n",
    "print(lista_cadena_usuario)\n",
    "lista_cadena_usuario.reverse()\n",
    "print(lista_cadena_usuario)\n",
    "\n",
    "cadena_texto_usuario_invertida = \" \".join(lista_cadena_usuario)\n",
    "print(cadena_texto_usuario_invertida)\n",
    "\n",
    "\n",
    "\n",
    "\n"
   ]
  },
  {
   "cell_type": "code",
   "execution_count": 48,
   "metadata": {},
   "outputs": [
    {
     "name": "stdout",
     "output_type": "stream",
     "text": [
      "Tu palabra elegida: examen, se encuentra en la posición: 18\n"
     ]
    }
   ],
   "source": [
    "#6. Crea un programa que busque una palabra específica (elegida por la usuaria) en una cadena de texto e indique su posición.\n",
    "\n",
    "frase = \"Estoy haciendo un examen\"\n",
    "palabra_elegida = str(input(\"Escoge una palabra de la siguiente frase: Estoy haciendo un examen\"))\n",
    "print(f\"Tu palabra elegida: {palabra_elegida}, se encuentra en la posición: {frase.find(palabra_elegida)}\")\n"
   ]
  },
  {
   "cell_type": "code",
   "execution_count": null,
   "metadata": {},
   "outputs": [],
   "source": []
  },
  {
   "cell_type": "markdown",
   "metadata": {},
   "source": [
    "Parte 2: Listas\n",
    "\n",
    "1. Dada la siguiente lista: frutas = ['manzana', 'pera', 'banana', 'uva', 'kiwi'], realiza lo siguiente:\n",
    "a) Reemplaza el segundo elemento con 'durazno'.\n",
    "b) Agrega 'naranja' al final de la lista.\n",
    "c) Extrae y muestra por pantalla el tercer elemento de la lista.\n",
    "2. Crea una lista llamada numeros que contenga los siguientes valores: 10, 25, 15, 30, 20.\n",
    "3. Agrega el valor 35 al incio de la lista numeros.\n",
    "4. Ordena la lista numeros en orden ascendente.\n",
    "5. Dada la siguiente lista numeros2 = [45, 22, 19, 38, 29]. Crea una nueva lista llamada numeros3 donde tengamos la unión de los todos los elementos de las dos listas (numeros y numeros2) de tal forma que el resultado final sea:\n",
    "numeros3 = [10, 25, 15, 30, 20, 45, 22, 19, 38, 29]\n",
    "6. Elimina el último elemento de la lista numeros3.\n",
    "7. Elimina el número 30 de la lista numeros3.\n"
   ]
  },
  {
   "cell_type": "code",
   "execution_count": null,
   "metadata": {},
   "outputs": [],
   "source": []
  },
  {
   "cell_type": "code",
   "execution_count": 54,
   "metadata": {},
   "outputs": [
    {
     "name": "stdout",
     "output_type": "stream",
     "text": [
      "['manzana', 'durazno', 'banana', 'uva', 'kiwi']\n",
      "['manzana', 'durazno', 'banana', 'uva', 'kiwi', 'naranja']\n",
      "banana\n"
     ]
    }
   ],
   "source": [
    "#1. Dada la siguiente lista: frutas = ['manzana', 'pera', 'banana', 'uva', 'kiwi'], realiza lo siguiente:\n",
    "#a) Reemplaza el segundo elemento con 'durazno'.\n",
    "#b) Agrega 'naranja' al final de la lista.\n",
    "#c) Extrae y muestra por pantalla el tercer elemento de la lista.\n",
    "\n",
    "frutas = ['manzana', 'pera', 'banana', 'uva', 'kiwi']\n",
    "frutas[1] = \"durazno\"\n",
    "print(frutas)\n",
    "\n",
    "frutas.append(\"naranja\")\n",
    "print(frutas)\n",
    "\n",
    "fruta = frutas[2]\n",
    "print(fruta)\n"
   ]
  },
  {
   "cell_type": "code",
   "execution_count": 56,
   "metadata": {},
   "outputs": [
    {
     "name": "stdout",
     "output_type": "stream",
     "text": [
      "La lista de numeros es:[10, 25, 15, 30, 20]\n"
     ]
    }
   ],
   "source": [
    "#2. Crea una lista llamada numeros que contenga los siguientes valores: 10, 25, 15, 30, 20.\n",
    "\n",
    "lista_numeros = [10,25,15,30,20]\n",
    "print(f\"La lista de numeros es:{lista_numeros}\")\n",
    "\n"
   ]
  },
  {
   "cell_type": "code",
   "execution_count": 79,
   "metadata": {},
   "outputs": [
    {
     "name": "stdout",
     "output_type": "stream",
     "text": [
      "[35, 10, 25, 15, 30, 20]\n"
     ]
    }
   ],
   "source": [
    "#3. Agrega el valor 35 al incio de la lista numeros.\n",
    "\n",
    "lista_numeros = [10,25,15,30,20]\n",
    "lista_numeros.insert(0, 35)\n",
    "print(lista_numeros)\n"
   ]
  },
  {
   "cell_type": "code",
   "execution_count": 73,
   "metadata": {},
   "outputs": [
    {
     "name": "stdout",
     "output_type": "stream",
     "text": [
      "[10, 15, 20, 25, 30]\n"
     ]
    }
   ],
   "source": [
    "# 4. Ordena la lista numeros en orden ascendente.\n",
    "lista_numeros = [10,25,15,30,20]\n",
    "lista_orden_ascendente = lista_numeros.sort()\n",
    "print(lista_numeros)"
   ]
  },
  {
   "cell_type": "code",
   "execution_count": 80,
   "metadata": {},
   "outputs": [
    {
     "name": "stdout",
     "output_type": "stream",
     "text": [
      "[10, 25, 15, 30, 20, 45, 22, 19, 38, 29]\n"
     ]
    }
   ],
   "source": [
    "#5. Dada la siguiente lista numeros2 = [45, 22, 19, 38, 29]. \n",
    "# Crea una nueva lista llamada numeros3 donde tengamos la unión de los todos los elementos de las dos listas (numeros y numeros2) de tal forma que el resultado final sea:\n",
    "#numeros3 = [10, 25, 15, 30, 20, 45, 22, 19, 38, 29]\n",
    "\n",
    "lista_numeros2 = [45, 22, 19, 38, 29]\n",
    "lista_numeros3 = [10, 25, 15, 30, 20]\n",
    "lista_unidad = lista_numeros3 + lista_numeros2\n",
    "print(lista_unidad)"
   ]
  },
  {
   "cell_type": "code",
   "execution_count": 81,
   "metadata": {},
   "outputs": [
    {
     "name": "stdout",
     "output_type": "stream",
     "text": [
      "[10, 25, 15, 30]\n"
     ]
    }
   ],
   "source": [
    "#6. Elimina el último elemento de la lista numeros3.\n",
    "\n",
    "lista_numeros3 = [10, 25, 15, 30, 20]\n",
    "lista_numeros3.pop(-1)\n",
    "print(lista_numeros3)"
   ]
  },
  {
   "cell_type": "code",
   "execution_count": 82,
   "metadata": {},
   "outputs": [
    {
     "name": "stdout",
     "output_type": "stream",
     "text": [
      "[10, 25, 15, 20]\n"
     ]
    }
   ],
   "source": [
    "#7. Elimina el número 30 de la lista numeros3.\n",
    "\n",
    "lista_numeros3 = [10, 25, 15, 30, 20]\n",
    "lista_numeros3.remove(30)\n",
    "print(lista_numeros3)"
   ]
  },
  {
   "cell_type": "markdown",
   "metadata": {},
   "source": [
    "Parte 3: Tuplas\n",
    "1. Crea una tupla llamada colores que contenga los siguientes valores: 'rojo', 'verde', 'azul', 'amarillo', 'morado'.\n",
    "2. Encuentra el índice de 'verde' en la tupla colores.\n",
    "3. ¿Cuántas veces aparece 'azul' en la tupla colores?\n",
    "4. Añade el color \"morado\" a la tupla colores. ¿Qué ha pasado? ¿Por qué? Como podríamos añadir el elemento \"morado\"."
   ]
  },
  {
   "cell_type": "code",
   "execution_count": 83,
   "metadata": {},
   "outputs": [],
   "source": [
    "#1. Crea una tupla llamada colores que contenga los siguientes valores: 'rojo', 'verde', 'azul', 'amarillo', 'morado'.\n",
    "\n",
    "colores = ('rojo', 'verde', 'azul', 'amarillo', 'morado')"
   ]
  },
  {
   "cell_type": "code",
   "execution_count": 85,
   "metadata": {},
   "outputs": [
    {
     "name": "stdout",
     "output_type": "stream",
     "text": [
      "1\n"
     ]
    }
   ],
   "source": [
    "#2. Encuentra el índice de 'verde' en la tupla colores.\n",
    "# \n",
    "indice = colores.index(\"verde\")\n",
    "print(indice)"
   ]
  },
  {
   "cell_type": "code",
   "execution_count": 86,
   "metadata": {},
   "outputs": [
    {
     "name": "stdout",
     "output_type": "stream",
     "text": [
      "1\n"
     ]
    }
   ],
   "source": [
    "#3. ¿Cuántas veces aparece 'azul' en la tupla colores?\n",
    "\n",
    "veces = colores.count(\"azul\")\n",
    "print(veces)\n"
   ]
  },
  {
   "cell_type": "code",
   "execution_count": 88,
   "metadata": {},
   "outputs": [
    {
     "name": "stdout",
     "output_type": "stream",
     "text": [
      "['rojo', 'verde', 'azul', 'amarillo', 'morado', 'morado']\n",
      "('rojo', 'verde', 'azul', 'amarillo', 'morado', 'morado')\n"
     ]
    }
   ],
   "source": [
    "#4. Añade el color \"morado\" a la tupla colores. ¿Qué ha pasado? ¿Por qué? Como podríamos añadir el elemento \"morado\".\n",
    "# tengo que pasar la tupla a una lista para añadir un elemento ya que las tuplas son inmutables.\n",
    "\n",
    "colores_lista = list(colores)\n",
    "colores_lista.append(\"morado\")\n",
    "\n",
    "colores = tuple(colores_lista)\n",
    "print(colores)\n"
   ]
  },
  {
   "cell_type": "markdown",
   "metadata": {},
   "source": [
    "Parte 4: Diccionarios\n",
    "1. Crea un diccionario llamado frutas con las siguientes parejas clave-valor: o 'manzana':2\n",
    "o 'banana':3 o 'uva':5\n",
    "o 'pera':4\n",
    "2. Saca una lista de todas las frutas en el diccionario.\n",
    "3. Saca una lista de todas las cantidades en el diccionario.\n",
    "4. ¿Qué cantidad de 'manzana' tenemos?. Si la clave 'manzana' no está presente, devuelve un mensaje diciendo \"No existe esa clave\".\n",
    "5. Agrega un nuevo par de clave-valor al diccionario frutas: 'kiwi' con una cantidad de 6.\n",
    "6. Cambia la cantidad de 'uva' a 8.\n",
    "7. Crea un segundo diccionario llamado frutas_nuevas con las siguientes parejas clave-valor:\n",
    "o 'sandía':7\n",
    "o 'mango':4\n",
    "8. Combinar los dos diccionarios frutas_nuevas y frutas en uno nuevos llamado frutas_total.\n",
    "9. Elimina el último par de clave-valor del diccionario fruta_total.\n",
    "10. Elimina el par de clave-valor correspondiente a la clave 'uva' del diccionario.\n",
    "11. Agregar la fruta 'manzana' con una cantidad de 10 al diccionario. Si ya existe, no se realizarán cambios en los valores que teníamos.\n",
    "12. Combinar métodos de listas y diccionarios:\n",
    "o Obtén una lista de todas las cantidades en el diccionario y calcula suma total de las\n",
    "cantidades del diccionario frutas_total.\n",
    "o Utilizando la lista creada en el apartado anterior encuentra la cantidad más grande y\n",
    "más pequeña."
   ]
  },
  {
   "cell_type": "code",
   "execution_count": 90,
   "metadata": {},
   "outputs": [],
   "source": [
    "#1. Crea un diccionario llamado frutas con las siguientes parejas clave-valor: o 'manzana':2\n",
    "#o 'banana':3 o 'uva':5\n",
    "#o 'pera':4\n",
    "\n",
    "diccionario_frutas = {\"manzana\":2, \"banana\":3, \"uva\":5, \"pera\":4 }"
   ]
  },
  {
   "cell_type": "code",
   "execution_count": 92,
   "metadata": {},
   "outputs": [
    {
     "name": "stdout",
     "output_type": "stream",
     "text": [
      "['manzana', 'banana', 'uva', 'pera']\n"
     ]
    }
   ],
   "source": [
    "#2. Saca una lista de todas las frutas en el diccionario.\n",
    "\n",
    "lista = list(diccionario_frutas.keys())\n",
    "print(lista)\n"
   ]
  },
  {
   "cell_type": "code",
   "execution_count": 93,
   "metadata": {},
   "outputs": [
    {
     "name": "stdout",
     "output_type": "stream",
     "text": [
      "[2, 3, 5, 4]\n"
     ]
    }
   ],
   "source": [
    "#3. Saca una lista de todas las cantidades en el diccionario.\n",
    "\n",
    "lista = list(diccionario_frutas.values())\n",
    "print(lista)"
   ]
  },
  {
   "cell_type": "code",
   "execution_count": 96,
   "metadata": {},
   "outputs": [
    {
     "name": "stdout",
     "output_type": "stream",
     "text": [
      "2\n"
     ]
    }
   ],
   "source": [
    "#pendiente#4. ¿Qué cantidad de 'manzana' tenemos?. Si la clave 'manzana' no está presente, devuelve un mensaje diciendo \"No existe esa clave\".\n",
    "\n",
    "\n",
    "cantidad_manzanas = diccionario_frutas.get(\"manzana\")\n",
    "print(cantidad_manzanas)\n"
   ]
  },
  {
   "cell_type": "code",
   "execution_count": 97,
   "metadata": {},
   "outputs": [
    {
     "name": "stdout",
     "output_type": "stream",
     "text": [
      "{'manzana': 2, 'banana': 3, 'uva': 5, 'pera': 4, 'kiwi': 6}\n"
     ]
    }
   ],
   "source": [
    "# 5. Agrega un nuevo par de clave-valor al diccionario frutas: 'kiwi' con una cantidad de 6.\n",
    "\n",
    "diccionario_frutas = {\"manzana\":2, \"banana\":3, \"uva\":5, \"pera\":4 }\n",
    "diccionario_frutas.update({\"kiwi\":6})\n",
    "print(diccionario_frutas)"
   ]
  },
  {
   "cell_type": "code",
   "execution_count": 98,
   "metadata": {},
   "outputs": [
    {
     "name": "stdout",
     "output_type": "stream",
     "text": [
      "{'manzana': 2, 'banana': 3, 'uva': 8, 'pera': 4, 'kiwi': 6}\n"
     ]
    }
   ],
   "source": [
    "#6. Cambia la cantidad de 'uva' a 8.\n",
    "\n",
    "diccionario_frutas.update({\"uva\":8})\n",
    "print(diccionario_frutas)"
   ]
  },
  {
   "cell_type": "code",
   "execution_count": 101,
   "metadata": {},
   "outputs": [],
   "source": [
    "#7. Crea un segundo diccionario llamado frutas_nuevas con las siguientes parejas clave-valor:o 'sandía':7 'mango':4\n",
    "\n",
    "diccionario_frutas_nuevas = {\"sandia\":7, \"mango\":4}\n"
   ]
  },
  {
   "cell_type": "code",
   "execution_count": 102,
   "metadata": {},
   "outputs": [
    {
     "name": "stdout",
     "output_type": "stream",
     "text": [
      "{'manzana': 2, 'banana': 3, 'uva': 8, 'pera': 4, 'kiwi': 6, 'sandia': 7, 'mango': 4}\n"
     ]
    }
   ],
   "source": [
    "# 8. Combinar los dos diccionarios frutas_nuevas y frutas en uno nuevos llamado frutas_total.\n",
    "#diccionario_frutas = {\"manzana\":2, \"banana\":3, \"uva\":5, \"pera\":4 }\n",
    "#diccionario_frutas_nuevas = {\"sandia\":7, \"mango\":4}\n",
    "\n",
    "diccionario_frutas_total = diccionario_frutas.copy() # al primer diccionario le hago una copia para no modificar el diccionario original porque el ejercicio me pide uno nuevo\n",
    "diccionario_frutas_total.update(diccionario_frutas_nuevas) # estoy añadiendo el 2 diccionario\n",
    "print(diccionario_frutas_total)"
   ]
  }
 ],
 "metadata": {
  "kernelspec": {
   "display_name": "base",
   "language": "python",
   "name": "python3"
  },
  "language_info": {
   "codemirror_mode": {
    "name": "ipython",
    "version": 3
   },
   "file_extension": ".py",
   "mimetype": "text/x-python",
   "name": "python",
   "nbconvert_exporter": "python",
   "pygments_lexer": "ipython3",
   "version": "3.11.7"
  }
 },
 "nbformat": 4,
 "nbformat_minor": 2
}
